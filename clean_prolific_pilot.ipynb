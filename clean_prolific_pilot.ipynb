{
 "cells": [
  {
   "cell_type": "code",
   "execution_count": 1,
   "metadata": {},
   "outputs": [],
   "source": [
    "import os\n",
    "from os import path\n",
    "from pathlib import Path\n",
    "import numpy as np\n",
    "import pandas as pd"
   ]
  },
  {
   "cell_type": "code",
   "execution_count": 2,
   "metadata": {},
   "outputs": [
    {
     "name": "stdout",
     "output_type": "stream",
     "text": [
      "Last modified: 210802\n"
     ]
    }
   ],
   "source": [
    "from datetime import datetime\n",
    "date = datetime.today().strftime('%y%m%d')\n",
    "print ('Last modified: ' + date)"
   ]
  },
  {
   "cell_type": "code",
   "execution_count": 3,
   "metadata": {},
   "outputs": [],
   "source": [
    "df = pd.read_csv('Technology Use (OA; pilot)_May 28, 2021_14.40.csv', encoding = \"ISO-8859-1\")\n",
    "df = df.drop(df.index[[0,1]]) #drop top rows"
   ]
  },
  {
   "cell_type": "code",
   "execution_count": 4,
   "metadata": {},
   "outputs": [],
   "source": [
    "cols = df.columns.drop('ResponseId')\n",
    "df[cols] = df[cols].apply(pd.to_numeric, errors='ignore')"
   ]
  },
  {
   "cell_type": "markdown",
   "metadata": {},
   "source": [
    "# Computer proficiency"
   ]
  },
  {
   "cell_type": "code",
   "execution_count": 5,
   "metadata": {},
   "outputs": [],
   "source": [
    "names = df.columns[pd.Series(df.columns).str.startswith('comp_')]\n",
    "df['cpq'] = df[names].sum(axis=1)"
   ]
  },
  {
   "cell_type": "markdown",
   "metadata": {},
   "source": [
    "# Mobile proficiency"
   ]
  },
  {
   "cell_type": "code",
   "execution_count": 6,
   "metadata": {},
   "outputs": [],
   "source": [
    "names = df.columns[pd.Series(df.columns).str.startswith('mobile_')]\n",
    "df['mdpq'] = df[names].sum(axis=1)"
   ]
  },
  {
   "cell_type": "markdown",
   "metadata": {},
   "source": [
    "# Wifi proficiency"
   ]
  },
  {
   "cell_type": "code",
   "execution_count": 7,
   "metadata": {},
   "outputs": [],
   "source": [
    "names = df.columns[pd.Series(df.columns).str.startswith('wifi_')]\n",
    "df['wnpq'] = df[names].sum(axis=1)\n"
   ]
  },
  {
   "cell_type": "markdown",
   "metadata": {},
   "source": [
    "# All proficiency"
   ]
  },
  {
   "cell_type": "code",
   "execution_count": 8,
   "metadata": {},
   "outputs": [],
   "source": [
    "df['all_proficiency'] = df['cpq'] + df['mdpq'] + df['wnpq']"
   ]
  },
  {
   "cell_type": "markdown",
   "metadata": {},
   "source": [
    "# Hardware"
   ]
  },
  {
   "cell_type": "code",
   "execution_count": 9,
   "metadata": {},
   "outputs": [],
   "source": [
    "names = df.columns[pd.Series(df.columns).str.startswith('hardware')]\n",
    "df['hardware'] = df[names].sum(axis=1)"
   ]
  },
  {
   "cell_type": "markdown",
   "metadata": {},
   "source": [
    "# Software"
   ]
  },
  {
   "cell_type": "code",
   "execution_count": 10,
   "metadata": {},
   "outputs": [
    {
     "data": {
      "text/plain": [
       "2     16\n",
       "3     20\n",
       "4     21\n",
       "5     13\n",
       "6     13\n",
       "7     20\n",
       "8     19\n",
       "9     21\n",
       "10    16\n",
       "11    18\n",
       "12    18\n",
       "13    15\n",
       "14    17\n",
       "15    14\n",
       "16    16\n",
       "17    14\n",
       "18    13\n",
       "19    19\n",
       "20    14\n",
       "21    18\n",
       "22    17\n",
       "23    20\n",
       "24    20\n",
       "25    17\n",
       "26    21\n",
       "27    19\n",
       "28    19\n",
       "29    17\n",
       "30    14\n",
       "31    15\n",
       "Name: software, dtype: int64"
      ]
     },
     "execution_count": 10,
     "metadata": {},
     "output_type": "execute_result"
    }
   ],
   "source": [
    "names = df.columns[pd.Series(df.columns).str.startswith('software')]\n",
    "df['software'] = df[names].sum(axis=1)\n",
    "df['software']"
   ]
  },
  {
   "cell_type": "markdown",
   "metadata": {},
   "source": [
    "# Recall"
   ]
  },
  {
   "cell_type": "code",
   "execution_count": 11,
   "metadata": {},
   "outputs": [],
   "source": [
    "df = df.apply(lambda x: x.str.lower() if x.dtype=='object' else x) #convert ALL string columns to lowercase"
   ]
  },
  {
   "cell_type": "code",
   "execution_count": 12,
   "metadata": {},
   "outputs": [],
   "source": [
    "correct = ['book','child','gold','hotel','king','market','paper','river','skin','tree']\n",
    "imm_columns = ['imm_1', 'imm_2', 'imm_3', 'imm_4', 'imm_5', 'imm_6','imm_7', 'imm_8', 'imm_9', 'imm_10']\n",
    "delay_columns = ['delay_1', 'delay_2', 'delay_3', 'delay_4', 'delay_5', 'delay_6','delay_7', 'delay_8', 'delay_9', 'delay_10']"
   ]
  },
  {
   "cell_type": "markdown",
   "metadata": {},
   "source": [
    "## Immediate recall"
   ]
  },
  {
   "cell_type": "code",
   "execution_count": 13,
   "metadata": {},
   "outputs": [],
   "source": [
    "df_transposed = df[imm_columns].T #transpose the df\n",
    "\n",
    "a = list()\n",
    "#keep only unique recall answers\n",
    "for i in df_transposed.columns:\n",
    "    a.append(df_transposed[i].unique())\n",
    "    \n",
    "# recall scoring rules\n",
    "# for each cell, verify if a word is one of the ten; if yes, add 1 to the score\n",
    "b = [0]*len(a)\n",
    "x = 0\n",
    "for i in a:\n",
    "    for j in i:\n",
    "        if j in correct: \n",
    "            b[x] = b[x] + 1\n",
    "    x = x + 1\n",
    "    \n",
    "df['imm_sum'] = b"
   ]
  },
  {
   "cell_type": "markdown",
   "metadata": {},
   "source": [
    "## Delayed recall"
   ]
  },
  {
   "cell_type": "code",
   "execution_count": 14,
   "metadata": {},
   "outputs": [],
   "source": [
    "df_transposed = df[delay_columns].T #transpose the df\n",
    "\n",
    "a = list()\n",
    "#keep only unique recall answers\n",
    "for i in df_transposed.columns:\n",
    "    a.append(df_transposed[i].unique())\n",
    "    \n",
    "# recall scoring rules\n",
    "# for each cell, verify if a word is one of the ten; if yes, add 1 to the score\n",
    "b = [0]*len(a)\n",
    "x = 0\n",
    "for i in a:\n",
    "    for j in i:\n",
    "        if j in correct: \n",
    "            b[x] = b[x] + 1\n",
    "    x = x + 1\n",
    "    \n",
    "df['delay_sum'] = b"
   ]
  },
  {
   "cell_type": "code",
   "execution_count": 15,
   "metadata": {},
   "outputs": [
    {
     "data": {
      "text/plain": [
       "2     10\n",
       "3      7\n",
       "4      2\n",
       "5      5\n",
       "6      5\n",
       "7      5\n",
       "8      6\n",
       "9      6\n",
       "10     4\n",
       "11     5\n",
       "12     2\n",
       "13     1\n",
       "14     5\n",
       "15     6\n",
       "16     6\n",
       "17     5\n",
       "18     3\n",
       "19     3\n",
       "20     1\n",
       "21     4\n",
       "22     5\n",
       "23     4\n",
       "24     7\n",
       "25     3\n",
       "26     6\n",
       "27     4\n",
       "28     3\n",
       "29     7\n",
       "30     3\n",
       "31     4\n",
       "Name: delay_sum, dtype: int64"
      ]
     },
     "execution_count": 15,
     "metadata": {},
     "output_type": "execute_result"
    }
   ],
   "source": [
    "df['delay_sum']"
   ]
  },
  {
   "cell_type": "markdown",
   "metadata": {},
   "source": [
    "# Sense of control"
   ]
  },
  {
   "cell_type": "code",
   "execution_count": 16,
   "metadata": {},
   "outputs": [],
   "source": [
    "a = ['control_1', 'control_2', 'control_4', 'control_5', 'control_7', 'control_9', 'control_10','control_11']\n",
    "b = ['control_3', 'control_6', 'control_8','control_12']"
   ]
  },
  {
   "cell_type": "code",
   "execution_count": 17,
   "metadata": {},
   "outputs": [],
   "source": [
    "df['constraints'] = df[a].sum(axis=1)\n",
    "df['mastery'] = df[b].sum(axis=1)\n"
   ]
  },
  {
   "cell_type": "markdown",
   "metadata": {},
   "source": [
    "# Exercise"
   ]
  },
  {
   "cell_type": "code",
   "execution_count": 18,
   "metadata": {},
   "outputs": [],
   "source": [
    "df['exer_sum'] = df['exer_1'] + 2*df['exer_2'] + 3*df['exer_3']"
   ]
  },
  {
   "cell_type": "markdown",
   "metadata": {},
   "source": [
    "# Social encouragement"
   ]
  },
  {
   "cell_type": "code",
   "execution_count": 19,
   "metadata": {},
   "outputs": [],
   "source": [
    "names = df.columns[pd.Series(df.columns).str.startswith('social_')]\n",
    "df['social'] = df[names].sum(axis=1)"
   ]
  },
  {
   "cell_type": "code",
   "execution_count": 20,
   "metadata": {},
   "outputs": [
    {
     "data": {
      "text/plain": [
       "2      2\n",
       "3      6\n",
       "4      4\n",
       "5      6\n",
       "6      1\n",
       "7      4\n",
       "8      7\n",
       "9      8\n",
       "10     0\n",
       "11     6\n",
       "12     0\n",
       "13     4\n",
       "14     7\n",
       "15     6\n",
       "16     2\n",
       "17     0\n",
       "18    10\n",
       "19     0\n",
       "20     4\n",
       "21     8\n",
       "22     6\n",
       "23     6\n",
       "24    10\n",
       "25    10\n",
       "26     3\n",
       "27     2\n",
       "28     0\n",
       "29     7\n",
       "30     6\n",
       "31     0\n",
       "Name: social, dtype: int64"
      ]
     },
     "execution_count": 20,
     "metadata": {},
     "output_type": "execute_result"
    }
   ],
   "source": [
    "df['social']"
   ]
  },
  {
   "cell_type": "code",
   "execution_count": 21,
   "metadata": {},
   "outputs": [],
   "source": [
    "df1 = df.rename(columns={\"Duration (in seconds)\": \"duration\"})"
   ]
  },
  {
   "cell_type": "code",
   "execution_count": 22,
   "metadata": {},
   "outputs": [],
   "source": [
    "subset = ['ResponseId', 'cpq','mdpq','wnpq','all_proficiency','hardware','software',\n",
    "          'imm_sum','delay_sum','constraints','mastery','exer_sum', 'social',\n",
    "          'map','number','volunteer','dentist',\n",
    "          'checking','retirement','work','vehicle','inheritance_1','debts',\n",
    "          'age','sage','education','gender','hispanic','english_1','race','couple',\n",
    "          'shealth','hearing','vision','alcohol','effort','experience','duration']\n",
    "\n",
    "df1 = df1[subset]"
   ]
  },
  {
   "cell_type": "markdown",
   "metadata": {},
   "source": [
    "# Save "
   ]
  },
  {
   "cell_type": "code",
   "execution_count": 23,
   "metadata": {},
   "outputs": [],
   "source": [
    "df1.to_csv(('prolific_pilot_'+ date + '.csv'),index = False)"
   ]
  }
 ],
 "metadata": {
  "kernelspec": {
   "display_name": "Python 3",
   "language": "python",
   "name": "python3"
  },
  "language_info": {
   "codemirror_mode": {
    "name": "ipython",
    "version": 3
   },
   "file_extension": ".py",
   "mimetype": "text/x-python",
   "name": "python",
   "nbconvert_exporter": "python",
   "pygments_lexer": "ipython3",
   "version": "3.7.4"
  }
 },
 "nbformat": 4,
 "nbformat_minor": 2
}
